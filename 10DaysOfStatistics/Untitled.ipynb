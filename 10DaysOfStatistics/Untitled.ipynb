{
 "cells": [
  {
   "cell_type": "code",
   "execution_count": 3,
   "metadata": {},
   "outputs": [
    {
     "name": "stdout",
     "output_type": "stream",
     "text": [
      "6\n",
      "6 12 8 10 20 16\n",
      "5 4 3 2 1 5\n"
     ]
    }
   ],
   "source": [
    "N = int(raw_input())\n",
    "l = map(int,raw_input().split())\n",
    "j = map(int,raw_input().split())"
   ]
  },
  {
   "cell_type": "code",
   "execution_count": 7,
   "metadata": {},
   "outputs": [
    {
     "data": {
      "text/plain": [
       "[(6, 5), (8, 3), (10, 2), (12, 4), (16, 5), (20, 1)]"
      ]
     },
     "execution_count": 7,
     "metadata": {},
     "output_type": "execute_result"
    }
   ],
   "source": [
    "s = zip(l,j)\n",
    "s.sort()\n",
    "s"
   ]
  },
  {
   "cell_type": "code",
   "execution_count": 6,
   "metadata": {},
   "outputs": [
    {
     "data": {
      "text/plain": [
       "[[6, 6, 6, 6, 6, 6], [2, 2]]"
      ]
     },
     "execution_count": 6,
     "metadata": {},
     "output_type": "execute_result"
    }
   ],
   "source": [
    "x = list([6 for i in xrange(6)])\n",
    "x \n",
    "y = []\n",
    "y.insert(len(y),[6 for i in xrange(6)])\n",
    "y.insert(len(y),[2 for i in xrange(2)])\n",
    "y"
   ]
  },
  {
   "cell_type": "code",
   "execution_count": 18,
   "metadata": {},
   "outputs": [],
   "source": [
    "y = []\n",
    "for i in xrange(len(s)):\n",
    "    for j in xrange(s[i][1]):\n",
    "        y.insert(len(y),s[i][0] )"
   ]
  },
  {
   "cell_type": "code",
   "execution_count": 19,
   "metadata": {},
   "outputs": [
    {
     "data": {
      "text/plain": [
       "[6, 6, 6, 6, 6, 8, 8, 8, 10, 10, 12, 12, 12, 12, 16, 16, 16, 16, 16, 20]"
      ]
     },
     "execution_count": 19,
     "metadata": {},
     "output_type": "execute_result"
    }
   ],
   "source": [
    "y"
   ]
  },
  {
   "cell_type": "code",
   "execution_count": null,
   "metadata": {
    "collapsed": true
   },
   "outputs": [],
   "source": [
    "6\n",
    "6 12 8 10 20 16\n",
    "5 4 3 2 1 5"
   ]
  },
  {
   "cell_type": "code",
   "execution_count": 22,
   "metadata": {},
   "outputs": [
    {
     "name": "stdout",
     "output_type": "stream",
     "text": [
      "6\n",
      "6 12 8 10 20 16\n",
      "5 4 3 2 1 5\n",
      "9\n"
     ]
    }
   ],
   "source": [
    "    N = int(raw_input())\n",
    "    l = map(int,raw_input().split())\n",
    "    j = map(int,raw_input().split())\n",
    "\n",
    "    s = zip(l,j)\n",
    "    s.sort()\n",
    "\n",
    "    y = []\n",
    "    for i in xrange(len(s)):\n",
    "        for j in xrange(s[i][1]):\n",
    "            y.insert(len(y),s[i][0] )\n",
    "    \n",
    "    jum = len(y)\n",
    "    if jum%2 != 0 :\n",
    "        Q2 = y[jum/2]\n",
    "        L = y[0:(jum/2)]\n",
    "        U = y[(N/2)+1:]\n",
    "        Q1 =(L[(len(L)-1)/2] + L[len(L)/2]) / 2.\n",
    "        Q3 =(U[(len(U)-1)/2] + U[len(U)/2]) / 2.\n",
    "    else :\n",
    "        NQ2 = (jum+1) / 2\n",
    "        Q2 = (y[jum/2] + y[jum/2 - 1]) / 2\n",
    "        L = y[0:NQ2]\n",
    "        U = y[NQ2:]\n",
    "        Q1 =(L[(len(L)-1)/2] + L[len(L)/2]) / 2.\n",
    "        Q3 =(U[(len(U)-1)/2] + U[len(U)/2]) / 2.\n",
    "\n",
    "    print Q3 - Q1"
   ]
  },
  {
   "cell_type": "code",
   "execution_count": null,
   "metadata": {
    "collapsed": true
   },
   "outputs": [],
   "source": []
  }
 ],
 "metadata": {
  "kernelspec": {
   "display_name": "Python 2",
   "language": "python",
   "name": "python2"
  },
  "language_info": {
   "codemirror_mode": {
    "name": "ipython",
    "version": 2
   },
   "file_extension": ".py",
   "mimetype": "text/x-python",
   "name": "python",
   "nbconvert_exporter": "python",
   "pygments_lexer": "ipython2",
   "version": "2.7.14"
  }
 },
 "nbformat": 4,
 "nbformat_minor": 2
}
