{
 "cells": [
  {
   "cell_type": "markdown",
   "metadata": {},
   "source": [
    "# Apple and Orange\n",
    "## Problem\n",
    "Sam's house has an apple tree and an orange tree that yield an abundance of fruit. In the diagram below, the red region denotes his house, where _s_ is the start point, and _t_ is the endpoint. The apple tree is to the left of his house, and the orange tree is to its right. You can assume the trees are located on a single point , where the apple tree is at point _a_, and the orange tree is at point _b_.\n",
    "\n",
    "When a fruit falls from its tree, it lands _d_ units of distance from its tree of origin along the _x_-axis. A negative value of _d_ means the fruit fell _d_ units to the tree's left, and a positive value of _d_ means it falls _d_ units to the tree's right.\n",
    "\n",
    "Complete the function countApplesAndOranges,\n",
    "\n",
    "where,\n",
    "\n",
    "_s_ Starting point of Sam's house location.\n",
    "\n",
    "_t_ Ending location of Sam's house location. \n",
    "\n",
    "_a_ Location of the Apple tree. \n",
    "\n",
    "_b_ Location of the Orange tree. \n",
    "\n",
    "_m_ Number of apples that fell from the tree. \n",
    "\n",
    "_apples_ Distance at which each apple falls from the tree. \n",
    "\n",
    "_n_ Number of oranges that fell from the tree. \n",
    "\n",
    "_oranges_ Distance at which each orange falls from the tree.\n",
    "\n",
    "\n",
    "Given the value of _d_ for _m_ apples and _n_ oranges, can you determine how many apples and oranges will fall on Sam's house (i.e., in the inclusive range \\[_s_,_t_\\])? Print the number of apples that fall on Sam's house as your first line of output, then print the number of oranges that fall on Sam's house as your second line of output.\n",
    "\n",
    "### Input Format\n",
    "\n",
    "The first line contains two space-separated integers denoting the respective values of _s_ and _t_. \n",
    "The second line contains two space-separated integers denoting the respective values of _a_ and _b_. \n",
    "The third line contains two space-separated integers denoting the respective values of _m_ and _n_. \n",
    "The fourth line contains _m_ space-separated integers denoting the respective distances that each apple falls from point _a_. \n",
    "The fifth line contains _n_ space-separated integers denoting the respective distances that each orange falls from point _b_.\n",
    "\n",
    "### Constraints\n",
    "\n",
    "### Output Format\n",
    "\n",
    "Print two integers on two different lines:\n",
    "\n",
    "1. The first integer: the number of apples that fall on Sam's house.\n",
    "2. The second integer: the number of oranges that fall on Sam's house."
   ]
  },
  {
   "cell_type": "code",
   "execution_count": 1,
   "metadata": {},
   "outputs": [],
   "source": [
    "# TITLE: Apple and Orange\n",
    "\n",
    "#!/bin/python\n",
    "\n",
    "import math\n",
    "import os\n",
    "import random\n",
    "import re\n",
    "import sys"
   ]
  },
  {
   "cell_type": "code",
   "execution_count": 46,
   "metadata": {},
   "outputs": [],
   "source": [
    "# Complete the countApplesAndOranges function below.\n",
    "def countApplesAndOranges(s, t, a, b, apples, oranges):\n",
    "    print apples\n",
    "    print oranges\n",
    "    \n",
    "    apples_fell = 0\n",
    "    oranges_fell = 0\n",
    "    \n",
    "    print \"Titik pohon apel : %0f\" % (a)\n",
    "    print \"Start rumah: %0f\" % (s)\n",
    "    for i in range(len(apples)):\n",
    "        print \"jatuh ke-%d: %0f\" % (i+1,(a + apples[i]))\n",
    "        if ((a + apples[i])>=s):\n",
    "            apples_fell +=1\n",
    "            print \"Buah apel ke-%d masuk ke rumah\" % (i+1)\n",
    "            \n",
    "    print \"Titik pohon jeruk : %0f\" % (b)        \n",
    "    print \"End rumah: %0f\" % (t)\n",
    "    for j in range(len(oranges)):\n",
    "        print \"jatuh ke-%d: %f\" % (j+1,(b - oranges[j]))\n",
    "        if ((b - oranges[j])<=t):\n",
    "            print \"Buah jeruk ke-%d masuk ke rumah\" % (j+1)\n",
    "            oranges_fell +=1\n",
    "    \n",
    "#     return \"%d \\n %d\"%(apples_fell,oranges_fell)\n",
    "    return apples_fell,'\\n',oranges_fell"
   ]
  },
  {
   "cell_type": "code",
   "execution_count": 3,
   "metadata": {},
   "outputs": [
    {
     "name": "stdout",
     "output_type": "stream",
     "text": [
      "7 11\n",
      "5 15\n",
      "3 2\n",
      "-2 2 1\n",
      "5 -6\n"
     ]
    }
   ],
   "source": [
    "if __name__ == '__main__':\n",
    "    st = raw_input().split()\n",
    "    # Starting point of Sam's house location\n",
    "    s = int(st[0])\n",
    "    # Ending location of Sam's houe location\n",
    "    t = int(st[1])\n",
    "    \n",
    "    ab = raw_input().split()\n",
    "    # Location of the Apple Tree\n",
    "    a = int(ab[0])\n",
    "    # Location of the Orange Tree\n",
    "    b = int(ab[1])\n",
    "\n",
    "    mn = raw_input().split()\n",
    "    # Number of apple that fell from the tree\n",
    "    m = int(mn[0])\n",
    "    # Number of orange that fell from the tree\n",
    "    n = int(mn[1])\n",
    "    # Distance at which each apple falls from the tree\n",
    "    apples = map(int, raw_input().rstrip().split())\n",
    "    # Distance at which orange falls from the tree\n",
    "    oranges = map(int, raw_input().rstrip().split())"
   ]
  },
  {
   "cell_type": "code",
   "execution_count": 47,
   "metadata": {},
   "outputs": [
    {
     "name": "stdout",
     "output_type": "stream",
     "text": [
      "[-2, 2, 1]\n",
      "[5, -6]\n",
      "Titik pohon apel : 5.000000\n",
      "Start rumah: 7.000000\n",
      "jatuh ke-1: 3.000000\n",
      "jatuh ke-2: 7.000000\n",
      "Buah apel ke-2 masuk ke rumah\n",
      "jatuh ke-3: 6.000000\n",
      "Titik pohon jeruk : 15.000000\n",
      "End rumah: 11.000000\n",
      "jatuh ke-1: 10.000000\n",
      "Buah jeruk ke-1 masuk ke rumah\n",
      "jatuh ke-2: 21.000000\n"
     ]
    },
    {
     "data": {
      "text/plain": [
       "(1, '\\n', 1)"
      ]
     },
     "execution_count": 47,
     "metadata": {},
     "output_type": "execute_result"
    }
   ],
   "source": [
    "countApplesAndOranges(s, t, a, b, apples, oranges)"
   ]
  },
  {
   "cell_type": "code",
   "execution_count": null,
   "metadata": {},
   "outputs": [],
   "source": []
  },
  {
   "cell_type": "code",
   "execution_count": null,
   "metadata": {},
   "outputs": [],
   "source": []
  }
 ],
 "metadata": {
  "kernelspec": {
   "display_name": "Python 2",
   "language": "python",
   "name": "python2"
  },
  "language_info": {
   "codemirror_mode": {
    "name": "ipython",
    "version": 2
   },
   "file_extension": ".py",
   "mimetype": "text/x-python",
   "name": "python",
   "nbconvert_exporter": "python",
   "pygments_lexer": "ipython2",
   "version": "2.7.14"
  }
 },
 "nbformat": 4,
 "nbformat_minor": 2
}
